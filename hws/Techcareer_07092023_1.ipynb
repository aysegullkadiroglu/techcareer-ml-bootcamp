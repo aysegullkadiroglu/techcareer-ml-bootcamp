{
  "nbformat": 4,
  "nbformat_minor": 0,
  "metadata": {
    "colab": {
      "provenance": [],
      "authorship_tag": "ABX9TyOYfwlB/ugJp0+WRB1zjEWn",
      "include_colab_link": true
    },
    "kernelspec": {
      "name": "python3",
      "display_name": "Python 3"
    },
    "language_info": {
      "name": "python"
    }
  },
  "cells": [
    {
      "cell_type": "markdown",
      "metadata": {
        "id": "view-in-github",
        "colab_type": "text"
      },
      "source": [
        "<a href=\"https://colab.research.google.com/github/aysegullkadiroglu/techcareer-ml-bootcamp/blob/main/hws/Techcareer_07092023_1.ipynb\" target=\"_parent\"><img src=\"https://colab.research.google.com/assets/colab-badge.svg\" alt=\"Open In Colab\"/></a>"
      ]
    },
    {
      "cell_type": "markdown",
      "source": [
        "# *SIRALAMA ALGORİTMALARI ÖRNEKLER*"
      ],
      "metadata": {
        "id": "bten8mhLTYiX"
      }
    },
    {
      "cell_type": "code",
      "execution_count": 47,
      "metadata": {
        "id": "wR9Tw768NEtg"
      },
      "outputs": [],
      "source": [
        "import pandas as pd\n",
        "import numpy as np"
      ]
    },
    {
      "cell_type": "code",
      "source": [
        "import random"
      ],
      "metadata": {
        "id": "gFOSVo6DTqyW"
      },
      "execution_count": 48,
      "outputs": []
    },
    {
      "cell_type": "code",
      "source": [
        "!pip install sorting\n",
        "import sorting"
      ],
      "metadata": {
        "colab": {
          "base_uri": "https://localhost:8080/"
        },
        "id": "XG0lc1-ITtyC",
        "outputId": "5f3b481a-3fea-4676-ed1c-7f92a9182e03"
      },
      "execution_count": 49,
      "outputs": [
        {
          "output_type": "stream",
          "name": "stdout",
          "text": [
            "Requirement already satisfied: sorting in /usr/local/lib/python3.10/dist-packages (1.0.3)\n"
          ]
        }
      ]
    },
    {
      "cell_type": "code",
      "source": [
        "veri = [random.randint(1,100) for _ in range(20)]"
      ],
      "metadata": {
        "id": "xVxiMr_8UzCG"
      },
      "execution_count": 62,
      "outputs": []
    },
    {
      "cell_type": "code",
      "source": [
        "print('Orijinal veri seti:')\n",
        "print(veri)"
      ],
      "metadata": {
        "colab": {
          "base_uri": "https://localhost:8080/"
        },
        "id": "Y8650rpdU_0J",
        "outputId": "b49fb8b2-f620-477b-b543-ad46eb87de69"
      },
      "execution_count": 63,
      "outputs": [
        {
          "output_type": "stream",
          "name": "stdout",
          "text": [
            "Orijinal veri seti:\n",
            "[95, 30, 25, 19, 76, 21, 64, 55, 1, 17, 57, 71, 96, 14, 17, 63, 77, 32, 28, 3]\n"
          ]
        }
      ]
    },
    {
      "cell_type": "markdown",
      "source": [
        "**Bubble Sort**"
      ],
      "metadata": {
        "id": "H9xRF3LRVJt1"
      }
    },
    {
      "cell_type": "code",
      "source": [
        "# kütüphane kullanılarak\n",
        "bubble_sorted = veri.copy()\n",
        "sorting.bubble(bubble_sorted)\n",
        "print('\\nBubble Sort:')\n",
        "print(bubble_sorted)"
      ],
      "metadata": {
        "colab": {
          "base_uri": "https://localhost:8080/"
        },
        "id": "rkjlcvN-VMMR",
        "outputId": "a36dd06b-11ff-46a4-f852-6991f4c2a08d"
      },
      "execution_count": 64,
      "outputs": [
        {
          "output_type": "stream",
          "name": "stdout",
          "text": [
            "\n",
            "Bubble Sort:\n",
            "[1, 3, 14, 17, 17, 19, 21, 25, 28, 30, 32, 55, 57, 63, 64, 71, 76, 77, 95, 96]\n"
          ]
        }
      ]
    },
    {
      "cell_type": "code",
      "source": [
        "# fonksiyon yazılarak\n",
        "def bubble_sort(arr):\n",
        "  n = len(arr)\n",
        "\n",
        "  for i in range(n):\n",
        "    for j in range(0, n-i-1):\n",
        "      # eğer sayı daha bir sonraki sayı ile yer değiştir\n",
        "      if arr[j] > arr[j+1]:\n",
        "        arr[j], arr[j+1] = arr[j+1], arr[j]\n",
        "\n",
        "print('\\nBubble Sort:')\n",
        "bubble_sort(veri)\n",
        "print(veri)"
      ],
      "metadata": {
        "colab": {
          "base_uri": "https://localhost:8080/"
        },
        "id": "n3LTNJZAVhbs",
        "outputId": "7424ed50-43bb-4e5f-d22f-5da8ad58d53c"
      },
      "execution_count": 65,
      "outputs": [
        {
          "output_type": "stream",
          "name": "stdout",
          "text": [
            "\n",
            "Bubble Sort:\n",
            "[1, 3, 14, 17, 17, 19, 21, 25, 28, 30, 32, 55, 57, 63, 64, 71, 76, 77, 95, 96]\n"
          ]
        }
      ]
    },
    {
      "cell_type": "markdown",
      "source": [
        "**Selection Sort**"
      ],
      "metadata": {
        "id": "HI8yKtQ4d95Q"
      }
    },
    {
      "cell_type": "code",
      "source": [
        "# kütüphane kullanılarak\n",
        "selection_sorted = veri.copy()\n",
        "sorting.selection(selection_sorted)\n",
        "print('\\nSelection Sort:')\n",
        "print(selection_sorted)"
      ],
      "metadata": {
        "colab": {
          "base_uri": "https://localhost:8080/"
        },
        "id": "8Abe5FfneAQ1",
        "outputId": "b37a046d-de40-4e4c-b37f-17e418eb1203"
      },
      "execution_count": 66,
      "outputs": [
        {
          "output_type": "stream",
          "name": "stdout",
          "text": [
            "\n",
            "Selection Sort:\n",
            "[1, 3, 14, 17, 17, 19, 21, 25, 28, 30, 32, 55, 57, 63, 64, 71, 76, 77, 95, 96]\n"
          ]
        }
      ]
    },
    {
      "cell_type": "code",
      "source": [
        "# fonksiyon yazılarak\n",
        "def selection_sort(arr):\n",
        "  n = len(arr)\n",
        "\n",
        "  for i in range(n):\n",
        "    # listedeki en küçük elemanı seçelim\n",
        "    min_index = i\n",
        "    for j in range(i+1, n):\n",
        "      if arr[j] < arr[min_index]:\n",
        "        min_index = j\n",
        "\n",
        "    # eğer sayı daha küçükse yer değiştir\n",
        "    arr[i], arr[min_index] = arr[min_index], arr[i]\n",
        "\n",
        "print('\\nSelection Sort:')\n",
        "selection_sort(veri)\n",
        "print(veri)"
      ],
      "metadata": {
        "colab": {
          "base_uri": "https://localhost:8080/"
        },
        "id": "mP5eZg4XeUom",
        "outputId": "1a45de54-b725-4094-8654-e522663f3099"
      },
      "execution_count": 67,
      "outputs": [
        {
          "output_type": "stream",
          "name": "stdout",
          "text": [
            "\n",
            "Selection Sort:\n",
            "[1, 3, 14, 17, 17, 19, 21, 25, 28, 30, 32, 55, 57, 63, 64, 71, 76, 77, 95, 96]\n"
          ]
        }
      ]
    },
    {
      "cell_type": "markdown",
      "source": [
        "**Insertion sort**"
      ],
      "metadata": {
        "id": "WJTHncBCg4Pl"
      }
    },
    {
      "cell_type": "code",
      "source": [
        "def insertion_sort(arr):\n",
        "  for i in range(1, len(arr)):\n",
        "    # listedeki bir eleman seçilir\n",
        "    key = arr[i]\n",
        "    j = i - 1\n",
        "    # eğer seiçlen eleman j'den (önündekinden) küçükse yer değiştirir\n",
        "    while j>= 0 and key < arr[j]:\n",
        "      arr[j+1] = arr[j]\n",
        "      j -= 1\n",
        "    arr[j+1] = key\n",
        "\n",
        "print('\\nInsertion Sort:')\n",
        "insertion_sort(veri)\n",
        "print(veri)"
      ],
      "metadata": {
        "colab": {
          "base_uri": "https://localhost:8080/"
        },
        "id": "JoRTNkbWhSRu",
        "outputId": "569b4250-e0d7-4601-f1a2-fb2f9c485a71"
      },
      "execution_count": 68,
      "outputs": [
        {
          "output_type": "stream",
          "name": "stdout",
          "text": [
            "\n",
            "Insertion Sort:\n",
            "[1, 3, 14, 17, 17, 19, 21, 25, 28, 30, 32, 55, 57, 63, 64, 71, 76, 77, 95, 96]\n"
          ]
        }
      ]
    },
    {
      "cell_type": "markdown",
      "source": [
        "**Quick Sort**"
      ],
      "metadata": {
        "id": "bhWl4pb9j92j"
      }
    },
    {
      "cell_type": "code",
      "source": [
        "def quick_sort(arr):\n",
        "  # liste'nin eleman sayısı 0 veya 1 ise kendini döndürür\n",
        "  if len(arr) <= 1:\n",
        "    return arr\n",
        "\n",
        "    pivot = random.choice(arr) # rastgele bir pivot sayısı seçelim\n",
        "    # listeyi üç parçaya bölelim:\n",
        "    equal = [x for x in arr if x == pivot] # pivota eşit olanlar\n",
        "    less = [x for x in arr if x < pivot] # pivottan küçük olanlar\n",
        "    greater = [x for x in arr if x > pivot] # pivottan büyük olanlar\n",
        "\n",
        "    # pivottan küçük ve büyük olanları yinelemeli olarak tekrar çağıralım\n",
        "    # üç listeyi de birleştir\n",
        "    return quick_sort(less) + equal + quick_sort(greater)\n",
        "\n",
        "print('\\nQuick Sort:')\n",
        "quick_sort(veri)\n",
        "print(veri)"
      ],
      "metadata": {
        "colab": {
          "base_uri": "https://localhost:8080/"
        },
        "id": "NJ_PzLeUkAu3",
        "outputId": "7b595435-bfa9-4f4a-c755-c539b6c287fb"
      },
      "execution_count": 69,
      "outputs": [
        {
          "output_type": "stream",
          "name": "stdout",
          "text": [
            "\n",
            "Quick Sort:\n",
            "[1, 3, 14, 17, 17, 19, 21, 25, 28, 30, 32, 55, 57, 63, 64, 71, 76, 77, 95, 96]\n"
          ]
        }
      ]
    },
    {
      "cell_type": "markdown",
      "source": [
        "**Merge Sort**"
      ],
      "metadata": {
        "id": "HvauUoffnxqa"
      }
    },
    {
      "cell_type": "code",
      "source": [
        "# Veri setini ikiye bölerek işlemlerini gerçekleştirir.\n",
        "# Daha sonrasında ikiye bölünmüş listeleri birleştirir ve artarak sıralar.\n",
        "\n",
        "def merge_sort(arr):\n",
        "  if len(arr) > 1:\n",
        "    mid = len(arr) // 2 # listedeki ortanca elemanı bul\n",
        "    left_half = arr[:mid]\n",
        "    right_half = arr[mid:]\n",
        "\n",
        "    # yinelemeli olarak sol ve sağ listeleri sıralar\n",
        "    merge_sort(left_half)\n",
        "    merge_sort(right_half)\n",
        "\n",
        "    # sıralanmış listeleri birleştir, bir araya getirelim\n",
        "    i = j = k = 0\n",
        "\n",
        "    # sağ ve sol listeleri karşılaştır, küçükleri seçme işlemi\n",
        "    while i < len(left_half) and j < len(right_half):\n",
        "      if left_half[i] < right_half[j]:\n",
        "        arr[k] = left_half[i]\n",
        "        i += 1\n",
        "      else:\n",
        "        arr[k] = right_half[i]\n",
        "        j += 1\n",
        "      k += 1\n",
        "\n",
        "    # kalan eleman varsa onları da birleştirir ve sıralar\n",
        "    while i < len(left_half):\n",
        "        arr[k] = left_half[i]\n",
        "        i += 1\n",
        "        k += 1\n",
        "\n",
        "    while j < len(right_half):\n",
        "        arr[k] = right_half[j]\n",
        "        j += 1\n",
        "        k += 1\n",
        "\n",
        "print('\\nMerge Sort:')\n",
        "merge_sort(veri)\n",
        "print(veri)"
      ],
      "metadata": {
        "colab": {
          "base_uri": "https://localhost:8080/"
        },
        "id": "PJHM89C_n0X0",
        "outputId": "b1e37a98-64c0-40d6-ee15-5478ceba0bee"
      },
      "execution_count": 70,
      "outputs": [
        {
          "output_type": "stream",
          "name": "stdout",
          "text": [
            "\n",
            "Merge Sort:\n",
            "[1, 3, 14, 17, 17, 19, 21, 25, 28, 30, 32, 55, 57, 63, 64, 71, 76, 77, 95, 96]\n"
          ]
        }
      ]
    },
    {
      "cell_type": "markdown",
      "source": [
        "**Heap Sort**"
      ],
      "metadata": {
        "id": "3Ab5XALfo4qI"
      }
    },
    {
      "cell_type": "code",
      "source": [
        "def heap_sort(arr):\n",
        "  def heapify(arr, n, i): # array, n=boyut, i=root\n",
        "    largest = i\n",
        "    left_child = 2 * i + 1    #    0 (root)\n",
        "    right_child = 2 * i + 2   #   / \\\n",
        "                              #  1   2\n",
        "    # if left_child > root\n",
        "    if left_child < n and arr[left_child] > arr[largest]:\n",
        "      largest = left_child\n",
        "\n",
        "    # if right_child > root\n",
        "    if right_child < n and arr[right_child] > arr[largest]:\n",
        "      largest = right_child\n",
        "\n",
        "    # root elemanını değiştirmek gerekliyse, değiştirir\n",
        "    if largest != i:\n",
        "      arr[i], arr[largest] = arr[largest], arr[i]\n",
        "      heapify(arr, n, largest)\n",
        "\n",
        "  n = len(arr)\n",
        "\n",
        "  # maximum heap yapmak için\n",
        "  for i in range(n // 2 - 1, -1, -1):\n",
        "    heapify(arr, n, i)\n",
        "\n",
        "  for i in range(n - 1, 0, -1):\n",
        "    arr[i], arr[0] = arr[0], arr[i]\n",
        "    heapify(arr, i, 0)\n",
        "\n",
        "print('\\nHeap Sort:')\n",
        "heap_sort(veri)\n",
        "print(veri)"
      ],
      "metadata": {
        "colab": {
          "base_uri": "https://localhost:8080/"
        },
        "id": "CRgxGX3lo6RO",
        "outputId": "7d3fd458-fa4d-4280-e0d0-f1cf5970595a"
      },
      "execution_count": 71,
      "outputs": [
        {
          "output_type": "stream",
          "name": "stdout",
          "text": [
            "\n",
            "Heap Sort:\n",
            "[1, 3, 14, 17, 17, 19, 21, 25, 28, 30, 32, 55, 57, 63, 64, 71, 76, 77, 95, 96]\n"
          ]
        }
      ]
    },
    {
      "cell_type": "markdown",
      "source": [
        "**Counting Sort**"
      ],
      "metadata": {
        "id": "NCgjmItvuIZU"
      }
    },
    {
      "cell_type": "code",
      "source": [
        "# Veri seti küçük olan ve negatif sayılar barındırmayanlarda daha etkilidir.\n",
        "\n",
        "def counting_sort(arr):\n",
        "  if not arr:\n",
        "    return arr\n",
        "\n",
        "  # en küçük ve en büyük değer bulunur\n",
        "  max_val = max(arr)\n",
        "  min_val = min(arr)\n",
        "\n",
        "  count = [0] * (max_val - min_val + 1)\n",
        "\n",
        "  # her bir veri görüldüğünde count arrayinde o indexi arttır\n",
        "  for num in arr:\n",
        "    count[num - min_val] += 1\n",
        "\n",
        "  sorted_arr = []\n",
        "  for i, freq in enumerate(count):\n",
        "    sorted_arr.extend([i + min_val] * freq)\n",
        "\n",
        "  return sorted_arr\n",
        "\n",
        "print('\\nCounting Sort:')\n",
        "counting_sort(veri)\n",
        "print(veri)"
      ],
      "metadata": {
        "colab": {
          "base_uri": "https://localhost:8080/"
        },
        "id": "3DFhBtQyuH8j",
        "outputId": "e0ab9ff1-e7d5-48e6-e506-3dd15061ed2c"
      },
      "execution_count": 72,
      "outputs": [
        {
          "output_type": "stream",
          "name": "stdout",
          "text": [
            "\n",
            "Counting Sort:\n",
            "[1, 3, 14, 17, 17, 19, 21, 25, 28, 30, 32, 55, 57, 63, 64, 71, 76, 77, 95, 96]\n"
          ]
        }
      ]
    },
    {
      "cell_type": "markdown",
      "source": [
        "**Radix Sort**"
      ],
      "metadata": {
        "id": "tj1LFK8PyJQO"
      }
    },
    {
      "cell_type": "code",
      "source": [
        "def radix_sort(arr):\n",
        "  # basamak sayısını belirlemek için en büyük olan sayıyı bul\n",
        "  max_num = max(arr)\n",
        "  max_digits = len(str(max_num))\n",
        "\n",
        "  # en düşük basamaktan başlayarak sırala\n",
        "  for digit_place in range(max_digits):\n",
        "    counting_sort(arr, digit_place)\n",
        "\n",
        "\n",
        "def counting_sort(arr, digit_place): # veri listesi ve basamak sayısı\n",
        "  n = len(arr)\n",
        "  output = [0] * n\n",
        "  count = [0] * 10 # 0-9\n",
        "\n",
        "  # basamak sayılarını count arr ekleme\n",
        "  for i in range(n):\n",
        "    digit = (arr[i] // (10 ** digit_place)) % 10\n",
        "    count[digit] += 1\n",
        "\n",
        "  # basamak sayılarının en son kaç tane olup olmadığını bulmak için toplama\n",
        "  for i in range(1, 10):\n",
        "    count[i] += count[i - 1]\n",
        "\n",
        "  i = n - 1\n",
        "  while i >= 0:\n",
        "    digit = (arr[i] // (10 ** digit_place)) % 10\n",
        "    output[count[digit] - 1] = arr[i]\n",
        "    count[digit] -= 1\n",
        "    i -= 1\n",
        "\n",
        "  # sıralanmış arrayi output'a kopyala\n",
        "  for i in range(n):\n",
        "    arr[i] = output[i]\n",
        "\n",
        "print('\\nRadix Sort:')\n",
        "radix_sort(veri)\n",
        "print(veri)"
      ],
      "metadata": {
        "colab": {
          "base_uri": "https://localhost:8080/"
        },
        "id": "w7AuBnGayI0U",
        "outputId": "aba568ff-2769-404f-8cc7-d4e5c2576402"
      },
      "execution_count": 73,
      "outputs": [
        {
          "output_type": "stream",
          "name": "stdout",
          "text": [
            "\n",
            "Radix Sort:\n",
            "[1, 3, 14, 17, 17, 19, 21, 25, 28, 30, 32, 55, 57, 63, 64, 71, 76, 77, 95, 96]\n"
          ]
        }
      ]
    },
    {
      "cell_type": "markdown",
      "source": [
        "**Topological Sort**"
      ],
      "metadata": {
        "id": "p5ryGkPa_agH"
      }
    },
    {
      "cell_type": "code",
      "source": [
        "from collections import defaultdict\n",
        "\n",
        "# DFS algoritması kullanılarak topolojik sıralama\n",
        "def topological_sort(graph):\n",
        "  def dfs(node):\n",
        "    visited.add(node)\n",
        "    for neighbor in veri:\n",
        "      # eğer düğümün komşusu ziyaret edilmediyse dfs uygula\n",
        "      if neighbor not in visited:\n",
        "        dfs(neighbor)\n",
        "    topological_order.insert(0, node)\n",
        "\n",
        "  visited = set()\n",
        "  topological_order = []\n",
        "\n",
        "  # DFS (depth-first-search)\n",
        "  for node in graph:\n",
        "    if node not in visited:\n",
        "      dfs(node)\n",
        "\n",
        "  return topological_order\n",
        "\n",
        "print('\\nTopological Sort:')\n",
        "topological_sort(veri)\n",
        "print(veri)"
      ],
      "metadata": {
        "colab": {
          "base_uri": "https://localhost:8080/"
        },
        "id": "ysOVpwuu_f1d",
        "outputId": "039e51df-9574-4b92-aa1b-f07ed485a788"
      },
      "execution_count": 74,
      "outputs": [
        {
          "output_type": "stream",
          "name": "stdout",
          "text": [
            "\n",
            "Topological Sort:\n",
            "[1, 3, 14, 17, 17, 19, 21, 25, 28, 30, 32, 55, 57, 63, 64, 71, 76, 77, 95, 96]\n"
          ]
        }
      ]
    }
  ]
}