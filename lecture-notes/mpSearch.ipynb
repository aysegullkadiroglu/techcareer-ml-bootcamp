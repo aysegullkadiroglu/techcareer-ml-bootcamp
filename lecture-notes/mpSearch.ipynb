{
  "nbformat": 4,
  "nbformat_minor": 0,
  "metadata": {
    "colab": {
      "provenance": [],
      "authorship_tag": "ABX9TyOIwjkljG+QWMFUYmsZq76z",
      "include_colab_link": true
    },
    "kernelspec": {
      "name": "python3",
      "display_name": "Python 3"
    },
    "language_info": {
      "name": "python"
    }
  },
  "cells": [
    {
      "cell_type": "markdown",
      "metadata": {
        "id": "view-in-github",
        "colab_type": "text"
      },
      "source": [
        "<a href=\"https://colab.research.google.com/github/aysegullkadiroglu/techcareer-ml-bootcamp/blob/main/lecture-notes/mpSearch.ipynb\" target=\"_parent\"><img src=\"https://colab.research.google.com/assets/colab-badge.svg\" alt=\"Open In Colab\"/></a>"
      ]
    },
    {
      "cell_type": "code",
      "source": [
        "import multiprocessing"
      ],
      "metadata": {
        "id": "kGGIzCgLlc4E"
      },
      "execution_count": 1,
      "outputs": []
    },
    {
      "cell_type": "code",
      "execution_count": 3,
      "metadata": {
        "colab": {
          "base_uri": "https://localhost:8080/"
        },
        "id": "IXoUnYXAjSrg",
        "outputId": "6a7e1d21-944f-4670-8dcf-1c79e8ae96f5"
      },
      "outputs": [
        {
          "output_type": "stream",
          "name": "stdout",
          "text": [
            "47 veri setinde bulundu. Indeksleri: 3, 8\n"
          ]
        }
      ],
      "source": [
        "def linear_arama_bolum(bolum, aranan, sonuclar, baslangic):\n",
        "  for indeks, eleman in enumerate(bolum):\n",
        "    if eleman == aranan:\n",
        "      sonuclar.put(indeks + baslangic)\n",
        "\n",
        "def paralel_linear_arama(veri_seti, aranan):\n",
        "  sonuclar = multiprocessing.Queue()\n",
        "  islemciler = []\n",
        "  bolum_boyutu = len(veri_seti) # multiprocessing.cpu_count()\n",
        "  for i in range(multiprocessing.cpu_count()):\n",
        "    baslangic = i * bolum_boyutu\n",
        "    son = (i+1) * bolum_boyutu if i != multiprocessing.cpu_count() -1 else len(veri_seti)\n",
        "    bolum = veri_seti[baslangic:son]\n",
        "    islemci = multiprocessing.Process(target=linear_arama_bolum,\n",
        "                                      args=(bolum, aranan, sonuclar, baslangic))\n",
        "    islemciler.append(islemci)\n",
        "\n",
        "  for islemci in islemciler:\n",
        "    islemci.start()\n",
        "\n",
        "  for islemci in islemciler:\n",
        "    islemci.join()\n",
        "\n",
        "  sonuc_indeksleri = []\n",
        "  while not sonuclar.empty():\n",
        "    sonuc_indeksleri.append(sonuclar.get())\n",
        "\n",
        "  return sonuc_indeksleri\n",
        "\n",
        "\n",
        "if __name__ == \"__main__\":\n",
        "  veri_seti = [10, 25, 30, 47, 10, 30, 15, 25, 47, 10, 15, 25]\n",
        "  aranan = 47\n",
        "  sonuclar = paralel_linear_arama(veri_seti, aranan)\n",
        "  if sonuclar:\n",
        "    print(f\"{aranan} veri setinde bulundu. Indeksleri: {', '.join(map(str, sonuclar))}\")\n",
        "  else:\n",
        "    print(f\"{aranan} veri setinde bulunamadı.\")"
      ]
    }
  ]
}