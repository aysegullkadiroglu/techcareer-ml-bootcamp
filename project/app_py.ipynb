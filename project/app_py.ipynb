{
  "cells": [
    {
      "cell_type": "markdown",
      "metadata": {
        "id": "view-in-github",
        "colab_type": "text"
      },
      "source": [
        "<a href=\"https://colab.research.google.com/github/aysegullkadiroglu/techcareer-ml-bootcamp/blob/main/project/app_py.ipynb\" target=\"_parent\"><img src=\"https://colab.research.google.com/assets/colab-badge.svg\" alt=\"Open In Colab\"/></a>"
      ]
    },
    {
      "cell_type": "code",
      "execution_count": null,
      "metadata": {
        "id": "SgzXi_ev_7lv"
      },
      "outputs": [],
      "source": [
        "!pip install -q streamlit"
      ]
    },
    {
      "cell_type": "code",
      "execution_count": null,
      "metadata": {
        "colab": {
          "base_uri": "https://localhost:8080/"
        },
        "id": "eQVBXF9fLJAR",
        "outputId": "8f5f1dda-6f7d-4166-fce0-808423b6ed28"
      },
      "outputs": [
        {
          "name": "stdout",
          "output_type": "stream",
          "text": [
            "Overwriting app.py\n"
          ]
        }
      ],
      "source": [
        "%%writefile app.py"
      ]
    },
    {
      "cell_type": "code",
      "execution_count": null,
      "metadata": {
        "colab": {
          "base_uri": "https://localhost:8080/"
        },
        "id": "HpoupvM6MMUB",
        "outputId": "46158c92-f1b7-4fd5-b6ba-86fe55f58671"
      },
      "outputs": [
        {
          "name": "stdout",
          "output_type": "stream",
          "text": [
            "\u001b[K\u001b[?25h/tools/node/bin/lt -> /tools/node/lib/node_modules/localtunnel/bin/lt.js\n",
            "+ localtunnel@2.0.2\n",
            "updated 1 package in 0.941s\n"
          ]
        }
      ],
      "source": [
        "!npm install -g localtunnel"
      ]
    },
    {
      "cell_type": "code",
      "execution_count": null,
      "metadata": {
        "id": "7k72_rrGLQLm"
      },
      "outputs": [],
      "source": [
        "!streamlit run app.py &>/content/logs.txt &"
      ]
    },
    {
      "cell_type": "code",
      "execution_count": null,
      "metadata": {
        "colab": {
          "base_uri": "https://localhost:8080/"
        },
        "id": "ROd2ygQhI1No",
        "outputId": "f3167a1b-00b4-4d23-fa9a-30ea0146923e"
      },
      "outputs": [
        {
          "name": "stdout",
          "output_type": "stream",
          "text": [
            "Requirement already satisfied: pyngrok in /usr/local/lib/python3.10/dist-packages (7.0.0)\n",
            "Requirement already satisfied: PyYAML in /usr/local/lib/python3.10/dist-packages (from pyngrok) (6.0.1)\n"
          ]
        }
      ],
      "source": [
        "!pip install pyngrok"
      ]
    },
    {
      "cell_type": "code",
      "execution_count": null,
      "metadata": {
        "colab": {
          "base_uri": "https://localhost:8080/"
        },
        "id": "owsL9d_8Hpi2",
        "outputId": "be2cdf0c-f233-46eb-e295-728efb136868"
      },
      "outputs": [
        {
          "name": "stdout",
          "output_type": "stream",
          "text": [
            "Drive already mounted at /content/drive; to attempt to forcibly remount, call drive.mount(\"/content/drive\", force_remount=True).\n"
          ]
        }
      ],
      "source": [
        "from google.colab import drive\n",
        "drive.mount('/content/drive')"
      ]
    },
    {
      "cell_type": "code",
      "execution_count": null,
      "metadata": {
        "colab": {
          "base_uri": "https://localhost:8080/"
        },
        "id": "ULxvF4FeJnQQ",
        "outputId": "4b90041a-e36b-4cb7-fb46-b94eb9023604"
      },
      "outputs": [
        {
          "name": "stdout",
          "output_type": "stream",
          "text": [
            "Port 8888 kullanılabilir.\n"
          ]
        }
      ],
      "source": [
        "import socket\n",
        "\n",
        "def is_port_available(port):\n",
        "    with socket.socket(socket.AF_INET, socket.SOCK_STREAM) as s:\n",
        "        return s.connect_ex(('localhost', port)) != 0\n",
        "\n",
        "port = 8888  # Kullanmak istediğiniz port numarasını burada belirtin\n",
        "if is_port_available(port):\n",
        "    print(f\"Port {port} kullanılabilir.\")\n",
        "else:\n",
        "    print(f\"Port {port} zaten kullanılıyor.\")"
      ]
    },
    {
      "cell_type": "code",
      "execution_count": null,
      "metadata": {
        "colab": {
          "base_uri": "https://localhost:8080/"
        },
        "id": "itoFgw68_1VV",
        "outputId": "8f94d06e-14a6-4a9a-a38f-ff8e6050c53c"
      },
      "outputs": [
        {
          "name": "stderr",
          "output_type": "stream",
          "text": [
            "2023-10-29 20:50:55.417 \n",
            "  \u001b[33m\u001b[1mWarning:\u001b[0m to view this Streamlit app on a browser, run it with the following\n",
            "  command:\n",
            "\n",
            "    streamlit run /usr/local/lib/python3.10/dist-packages/colab_kernel_launcher.py [ARGUMENTS]\n"
          ]
        }
      ],
      "source": [
        "import numpy as np\n",
        "import pickle\n",
        "import streamlit as st\n",
        "\n",
        "# yukarıdakileri fonkisyona alalım\n",
        "def recommend_movie(movie):\n",
        "  index = netflix_data_v2[netflix_data_v2['TITLE']==movie].index[0]\n",
        "  # benzerlik değerlerine göre sıralayıp uzaklık değerine atıyoruz\n",
        "  distance = sorted(list(enumerate(similarity[index])), reverse=True, key=lambda vector:vector[1])\n",
        "  recommended_movies_name = []\n",
        "  for index, _ in distance[:10]:\n",
        "     index = netflix_data_v2.iloc[i[0]]['index']\n",
        "     recommended_movies_name.append(netflix_data_v2['TITLE'])\n",
        "  return recommended_movies_name\n",
        "\n",
        "st.header(\"Netflix Movie Recommendation System\")\n",
        "netflix_data_v2 = np.load('drive/MyDrive/netflix_titles.pkl', allow_pickle = True)\n",
        "\n",
        "similarity = np.load('drive/MyDrive/netflix_titles.pkl', allow_pickle = True)\n",
        "\n",
        "movie_list = netflix_data_v2['TITLE'].values\n",
        "select_movie = st.selectbox(\n",
        "    \"Please type or select a movie for recommendation\",\n",
        "    movie_list\n",
        ")\n",
        "\n",
        "if st.button(\"Show recommendation\"):\n",
        "    recommended_movies_name, recommended_movies_poster = recommend_movie(select_movie)\n",
        "    column = st.columns(10)\n",
        "    with column:\n",
        "       st.text(recommended_movies_name[0])\n",
        "       st.text(recommended_movies_name[1])\n",
        "       st.text(recommended_movies_name[2])\n",
        "       st.text(recommended_movies_name[3])\n",
        "       st.text(recommended_movies_name[4])\n",
        "       st.text(recommended_movies_name[5])\n",
        "       st.text(recommended_movies_name[6])\n",
        "       st.text(recommended_movies_name[7])\n",
        "       st.text(recommended_movies_name[8])\n",
        "       st.text(recommended_movies_name[9])"
      ]
    },
    {
      "cell_type": "code",
      "execution_count": null,
      "metadata": {
        "colab": {
          "background_save": true,
          "base_uri": "https://localhost:8080/"
        },
        "id": "HuzBx3F6L7eg",
        "outputId": "17e1a6bd-18c0-4eb3-e96e-2058fb0956d7"
      },
      "outputs": [
        {
          "name": "stdout",
          "output_type": "stream",
          "text": [
            "\u001b[K\u001b[?25hnpx: installed 22 in 2.293s\n",
            "your url is: https://pretty-seals-thank.loca.lt\n"
          ]
        }
      ],
      "source": [
        "!npx localtunnel --port 8888"
      ]
    },
    {
      "cell_type": "code",
      "execution_count": null,
      "metadata": {
        "colab": {
          "base_uri": "https://localhost:8080/"
        },
        "id": "2oU3lBVRNjSg",
        "outputId": "ce1b468f-9cf4-464a-89bf-269ca27d19a6"
      },
      "outputs": [
        {
          "name": "stdout",
          "output_type": "stream",
          "text": [
            "Password/Enpoint IP for localtunnel is: 34.125.19.108\n"
          ]
        }
      ],
      "source": [
        "import urllib\n",
        "\n",
        "print(\"Password/Enpoint IP for localtunnel is:\",urllib.request.urlopen('https://ipv4.icanhazip.com').read().decode('utf8').strip(\"\\n\"))"
      ]
    }
  ],
  "metadata": {
    "colab": {
      "provenance": [],
      "mount_file_id": "1wCfitPn6Az0rtP38HpCeCLpxPQVuBRyR",
      "authorship_tag": "ABX9TyND/hbnGqz4fMQuZjmr3Izw",
      "include_colab_link": true
    },
    "kernelspec": {
      "display_name": "Python 3",
      "name": "python3"
    },
    "language_info": {
      "name": "python"
    }
  },
  "nbformat": 4,
  "nbformat_minor": 0
}